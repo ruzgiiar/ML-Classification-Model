{
 "cells": [
  {
   "cell_type": "code",
   "execution_count": 429,
   "id": "7eaf1e82",
   "metadata": {},
   "outputs": [],
   "source": [
    "import pandas as pd\n",
    "import numpy as np\n",
    "import matplotlib.pyplot as plt\n",
    "import seaborn as sns\n",
    "%matplotlib inline"
   ]
  },
  {
   "cell_type": "code",
   "execution_count": 430,
   "id": "e1b1b497",
   "metadata": {},
   "outputs": [],
   "source": [
    "df = pd.read_csv('Social_Network_Ads.csv')"
   ]
  },
  {
   "cell_type": "code",
   "execution_count": 431,
   "id": "10f8e0a7",
   "metadata": {},
   "outputs": [
    {
     "data": {
      "text/html": [
       "<div>\n",
       "<style scoped>\n",
       "    .dataframe tbody tr th:only-of-type {\n",
       "        vertical-align: middle;\n",
       "    }\n",
       "\n",
       "    .dataframe tbody tr th {\n",
       "        vertical-align: top;\n",
       "    }\n",
       "\n",
       "    .dataframe thead th {\n",
       "        text-align: right;\n",
       "    }\n",
       "</style>\n",
       "<table border=\"1\" class=\"dataframe\">\n",
       "  <thead>\n",
       "    <tr style=\"text-align: right;\">\n",
       "      <th></th>\n",
       "      <th>User ID</th>\n",
       "      <th>Gender</th>\n",
       "      <th>Age</th>\n",
       "      <th>EstimatedSalary</th>\n",
       "      <th>Purchased</th>\n",
       "    </tr>\n",
       "  </thead>\n",
       "  <tbody>\n",
       "    <tr>\n",
       "      <th>0</th>\n",
       "      <td>15624510</td>\n",
       "      <td>Male</td>\n",
       "      <td>19</td>\n",
       "      <td>19000</td>\n",
       "      <td>0</td>\n",
       "    </tr>\n",
       "    <tr>\n",
       "      <th>1</th>\n",
       "      <td>15810944</td>\n",
       "      <td>Male</td>\n",
       "      <td>35</td>\n",
       "      <td>20000</td>\n",
       "      <td>0</td>\n",
       "    </tr>\n",
       "    <tr>\n",
       "      <th>2</th>\n",
       "      <td>15668575</td>\n",
       "      <td>Female</td>\n",
       "      <td>26</td>\n",
       "      <td>43000</td>\n",
       "      <td>0</td>\n",
       "    </tr>\n",
       "    <tr>\n",
       "      <th>3</th>\n",
       "      <td>15603246</td>\n",
       "      <td>Female</td>\n",
       "      <td>27</td>\n",
       "      <td>57000</td>\n",
       "      <td>0</td>\n",
       "    </tr>\n",
       "    <tr>\n",
       "      <th>4</th>\n",
       "      <td>15804002</td>\n",
       "      <td>Male</td>\n",
       "      <td>19</td>\n",
       "      <td>76000</td>\n",
       "      <td>0</td>\n",
       "    </tr>\n",
       "  </tbody>\n",
       "</table>\n",
       "</div>"
      ],
      "text/plain": [
       "    User ID  Gender  Age  EstimatedSalary  Purchased\n",
       "0  15624510    Male   19            19000          0\n",
       "1  15810944    Male   35            20000          0\n",
       "2  15668575  Female   26            43000          0\n",
       "3  15603246  Female   27            57000          0\n",
       "4  15804002    Male   19            76000          0"
      ]
     },
     "execution_count": 431,
     "metadata": {},
     "output_type": "execute_result"
    }
   ],
   "source": [
    "df.head()"
   ]
  },
  {
   "cell_type": "code",
   "execution_count": 432,
   "id": "e1952723",
   "metadata": {},
   "outputs": [
    {
     "data": {
      "text/plain": [
       "User ID            0\n",
       "Gender             0\n",
       "Age                0\n",
       "EstimatedSalary    0\n",
       "Purchased          0\n",
       "dtype: int64"
      ]
     },
     "execution_count": 432,
     "metadata": {},
     "output_type": "execute_result"
    }
   ],
   "source": [
    "df.isnull().sum()"
   ]
  },
  {
   "cell_type": "code",
   "execution_count": 433,
   "id": "cc16752d",
   "metadata": {},
   "outputs": [
    {
     "name": "stdout",
     "output_type": "stream",
     "text": [
      "<class 'pandas.core.frame.DataFrame'>\n",
      "RangeIndex: 400 entries, 0 to 399\n",
      "Data columns (total 5 columns):\n",
      " #   Column           Non-Null Count  Dtype \n",
      "---  ------           --------------  ----- \n",
      " 0   User ID          400 non-null    int64 \n",
      " 1   Gender           400 non-null    object\n",
      " 2   Age              400 non-null    int64 \n",
      " 3   EstimatedSalary  400 non-null    int64 \n",
      " 4   Purchased        400 non-null    int64 \n",
      "dtypes: int64(4), object(1)\n",
      "memory usage: 15.8+ KB\n"
     ]
    }
   ],
   "source": [
    "df.info()"
   ]
  },
  {
   "cell_type": "code",
   "execution_count": 434,
   "id": "72ce718f",
   "metadata": {},
   "outputs": [
    {
     "data": {
      "text/plain": [
       "(400, 5)"
      ]
     },
     "execution_count": 434,
     "metadata": {},
     "output_type": "execute_result"
    }
   ],
   "source": [
    "df.shape"
   ]
  },
  {
   "cell_type": "code",
   "execution_count": 435,
   "id": "4f6595b7",
   "metadata": {},
   "outputs": [
    {
     "data": {
      "text/html": [
       "<div>\n",
       "<style scoped>\n",
       "    .dataframe tbody tr th:only-of-type {\n",
       "        vertical-align: middle;\n",
       "    }\n",
       "\n",
       "    .dataframe tbody tr th {\n",
       "        vertical-align: top;\n",
       "    }\n",
       "\n",
       "    .dataframe thead th {\n",
       "        text-align: right;\n",
       "    }\n",
       "</style>\n",
       "<table border=\"1\" class=\"dataframe\">\n",
       "  <thead>\n",
       "    <tr style=\"text-align: right;\">\n",
       "      <th></th>\n",
       "      <th>User ID</th>\n",
       "      <th>Age</th>\n",
       "      <th>EstimatedSalary</th>\n",
       "      <th>Purchased</th>\n",
       "    </tr>\n",
       "  </thead>\n",
       "  <tbody>\n",
       "    <tr>\n",
       "      <th>count</th>\n",
       "      <td>4.000000e+02</td>\n",
       "      <td>400.000000</td>\n",
       "      <td>400.000000</td>\n",
       "      <td>400.000000</td>\n",
       "    </tr>\n",
       "    <tr>\n",
       "      <th>mean</th>\n",
       "      <td>1.569154e+07</td>\n",
       "      <td>37.655000</td>\n",
       "      <td>69742.500000</td>\n",
       "      <td>0.357500</td>\n",
       "    </tr>\n",
       "    <tr>\n",
       "      <th>std</th>\n",
       "      <td>7.165832e+04</td>\n",
       "      <td>10.482877</td>\n",
       "      <td>34096.960282</td>\n",
       "      <td>0.479864</td>\n",
       "    </tr>\n",
       "    <tr>\n",
       "      <th>min</th>\n",
       "      <td>1.556669e+07</td>\n",
       "      <td>18.000000</td>\n",
       "      <td>15000.000000</td>\n",
       "      <td>0.000000</td>\n",
       "    </tr>\n",
       "    <tr>\n",
       "      <th>25%</th>\n",
       "      <td>1.562676e+07</td>\n",
       "      <td>29.750000</td>\n",
       "      <td>43000.000000</td>\n",
       "      <td>0.000000</td>\n",
       "    </tr>\n",
       "    <tr>\n",
       "      <th>50%</th>\n",
       "      <td>1.569434e+07</td>\n",
       "      <td>37.000000</td>\n",
       "      <td>70000.000000</td>\n",
       "      <td>0.000000</td>\n",
       "    </tr>\n",
       "    <tr>\n",
       "      <th>75%</th>\n",
       "      <td>1.575036e+07</td>\n",
       "      <td>46.000000</td>\n",
       "      <td>88000.000000</td>\n",
       "      <td>1.000000</td>\n",
       "    </tr>\n",
       "    <tr>\n",
       "      <th>max</th>\n",
       "      <td>1.581524e+07</td>\n",
       "      <td>60.000000</td>\n",
       "      <td>150000.000000</td>\n",
       "      <td>1.000000</td>\n",
       "    </tr>\n",
       "  </tbody>\n",
       "</table>\n",
       "</div>"
      ],
      "text/plain": [
       "            User ID         Age  EstimatedSalary   Purchased\n",
       "count  4.000000e+02  400.000000       400.000000  400.000000\n",
       "mean   1.569154e+07   37.655000     69742.500000    0.357500\n",
       "std    7.165832e+04   10.482877     34096.960282    0.479864\n",
       "min    1.556669e+07   18.000000     15000.000000    0.000000\n",
       "25%    1.562676e+07   29.750000     43000.000000    0.000000\n",
       "50%    1.569434e+07   37.000000     70000.000000    0.000000\n",
       "75%    1.575036e+07   46.000000     88000.000000    1.000000\n",
       "max    1.581524e+07   60.000000    150000.000000    1.000000"
      ]
     },
     "execution_count": 435,
     "metadata": {},
     "output_type": "execute_result"
    }
   ],
   "source": [
    "df.describe()"
   ]
  },
  {
   "cell_type": "code",
   "execution_count": 436,
   "id": "fece7fff",
   "metadata": {},
   "outputs": [
    {
     "data": {
      "text/plain": [
       "<AxesSubplot:xlabel='Purchased', ylabel='count'>"
      ]
     },
     "execution_count": 436,
     "metadata": {},
     "output_type": "execute_result"
    },
    {
     "data": {
      "image/png": "[encoded data removed]",
      "text/plain": [
       "<Figure size 640x480 with 1 Axes>"
      ]
     },
     "metadata": {},
     "output_type": "display_data"
    }
   ],
   "source": [
    "sns.countplot(x= 'Purchased', data = df)"
   ]
  },
  {
   "cell_type": "code",
   "execution_count": 437,
   "id": "eaf6f9b9",
   "metadata": {},
   "outputs": [
    {
     "data": {
      "text/plain": [
       "<AxesSubplot:>"
      ]
     },
     "execution_count": 437,
     "metadata": {},
     "output_type": "execute_result"
    },
    {
     "data": {
      "image/png": "[encoded data removed]",
      "text/plain": [
       "<Figure size 640x480 with 1 Axes>"
      ]
     },
     "metadata": {},
     "output_type": "display_data"
    }
   ],
   "source": [
    "df.corr()['Purchased'].sort_values().plot(kind = 'bar')"
   ]
  },
  {
   "cell_type": "markdown",
   "id": "e513a24f",
   "metadata": {},
   "source": [
    "- Gender degiskenini Kategorik veri tipine donusturecegiz.\n",
    "- UserID degiskenini silecegiz."
   ]
  },
  {
   "cell_type": "code",
   "execution_count": 438,
   "id": "c300ff98",
   "metadata": {},
   "outputs": [
    {
     "data": {
      "text/plain": [
       "0      Male\n",
       "1      Male\n",
       "2    Female\n",
       "3    Female\n",
       "4      Male\n",
       "Name: Gender, dtype: object"
      ]
     },
     "execution_count": 438,
     "metadata": {},
     "output_type": "execute_result"
    }
   ],
   "source": [
    "df['Gender'].head()"
   ]
  },
  {
   "cell_type": "code",
   "execution_count": 439,
   "id": "20861021",
   "metadata": {},
   "outputs": [],
   "source": [
    "df['Gender'] = df.Gender.str.replace('Male', '1')"
   ]
  },
  {
   "cell_type": "code",
   "execution_count": 440,
   "id": "29ccc364",
   "metadata": {},
   "outputs": [],
   "source": [
    "df['Gender'] = df.Gender.str.replace('Female', '0')"
   ]
  },
  {
   "cell_type": "code",
   "execution_count": 441,
   "id": "e7a3fd9f",
   "metadata": {},
   "outputs": [
    {
     "data": {
      "text/plain": [
       "0    1\n",
       "1    1\n",
       "2    0\n",
       "3    0\n",
       "4    1\n",
       "Name: Gender, dtype: object"
      ]
     },
     "execution_count": 441,
     "metadata": {},
     "output_type": "execute_result"
    }
   ],
   "source": [
    "df[\"Gender\"].head()"
   ]
  },
  {
   "cell_type": "code",
   "execution_count": 442,
   "id": "b6faf5bf",
   "metadata": {},
   "outputs": [],
   "source": [
    "df['Gender'] = df['Gender'].astype('int64')"
   ]
  },
  {
   "cell_type": "code",
   "execution_count": 443,
   "id": "2539a43f",
   "metadata": {},
   "outputs": [
    {
     "data": {
      "text/plain": [
       "0    1\n",
       "1    1\n",
       "2    0\n",
       "3    0\n",
       "4    1\n",
       "Name: Gender, dtype: int64"
      ]
     },
     "execution_count": 443,
     "metadata": {},
     "output_type": "execute_result"
    }
   ],
   "source": [
    "df['Gender'].head()"
   ]
  },
  {
   "cell_type": "code",
   "execution_count": 444,
   "id": "8be5b15a",
   "metadata": {},
   "outputs": [],
   "source": [
    "dfML['Gender'] = df['Gender']"
   ]
  },
  {
   "cell_type": "code",
   "execution_count": 445,
   "id": "cc5e2ed6",
   "metadata": {},
   "outputs": [],
   "source": [
    "df_Orginal = df"
   ]
  },
  {
   "cell_type": "code",
   "execution_count": 446,
   "id": "106cfe56",
   "metadata": {},
   "outputs": [],
   "source": [
    "df = dfML"
   ]
  },
  {
   "cell_type": "code",
   "execution_count": 447,
   "id": "ff79461a",
   "metadata": {},
   "outputs": [
    {
     "data": {
      "text/plain": [
       "Gender            -0.042469\n",
       "EstimatedSalary    0.362083\n",
       "Age                0.622454\n",
       "Purchased          1.000000\n",
       "Name: Purchased, dtype: float64"
      ]
     },
     "execution_count": 447,
     "metadata": {},
     "output_type": "execute_result"
    }
   ],
   "source": [
    "df.corr()['Purchased'].sort_values()"
   ]
  },
  {
   "cell_type": "code",
   "execution_count": 448,
   "id": "e477bc20",
   "metadata": {},
   "outputs": [
    {
     "data": {
      "text/plain": [
       "<AxesSubplot:>"
      ]
     },
     "execution_count": 448,
     "metadata": {},
     "output_type": "execute_result"
    },
    {
     "data": {
      "image/png": "[encoded data removed]",
      "text/plain": [
       "<Figure size 640x480 with 1 Axes>"
      ]
     },
     "metadata": {},
     "output_type": "display_data"
    }
   ],
   "source": [
    "df.corr()['Purchased'].sort_values().plot(kind = 'bar')"
   ]
  },
  {
   "cell_type": "code",
   "execution_count": 449,
   "id": "56263f8e",
   "metadata": {
    "scrolled": false
   },
   "outputs": [
    {
     "data": {
      "text/plain": [
       "<AxesSubplot:xlabel='EstimatedSalary', ylabel='Count'>"
      ]
     },
     "execution_count": 449,
     "metadata": {},
     "output_type": "execute_result"
    },
    {
     "data": {
      "image/png": "[encoded data removed]",
      "text/plain": [
       "<Figure size 700x500 with 1 Axes>"
      ]
     },
     "metadata": {},
     "output_type": "display_data"
    }
   ],
   "source": [
    "plt.figure(figsize=(7,5))\n",
    "sns.histplot(df['EstimatedSalary'])"
   ]
  },
  {
   "cell_type": "code",
   "execution_count": 450,
   "id": "9de5b46a",
   "metadata": {},
   "outputs": [
    {
     "data": {
      "text/plain": [
       "<AxesSubplot:xlabel='Age', ylabel='Count'>"
      ]
     },
     "execution_count": 450,
     "metadata": {},
     "output_type": "execute_result"
    },
    {
     "data": {
      "image/png": "[encoded data removed]",
      "text/plain": [
       "<Figure size 700x500 with 1 Axes>"
      ]
     },
     "metadata": {},
     "output_type": "display_data"
    }
   ],
   "source": [
    "plt.figure(figsize=(7,5))\n",
    "sns.histplot(df['Age'])"
   ]
  },
  {
   "cell_type": "code",
   "execution_count": 451,
   "id": "79430f8b",
   "metadata": {},
   "outputs": [
    {
     "data": {
      "text/plain": [
       "<AxesSubplot:xlabel='EstimatedSalary', ylabel='Age'>"
      ]
     },
     "execution_count": 451,
     "metadata": {},
     "output_type": "execute_result"
    },
    {
     "data": {
      "image/png": "[encoded data removed]",
      "text/plain": [
       "<Figure size 640x480 with 1 Axes>"
      ]
     },
     "metadata": {},
     "output_type": "display_data"
    }
   ],
   "source": [
    "sns.scatterplot(x='EstimatedSalary', y='Age', data=df)"
   ]
  },
  {
   "cell_type": "code",
   "execution_count": 452,
   "id": "256a6f39",
   "metadata": {},
   "outputs": [
    {
     "data": {
      "text/html": [
       "<div>\n",
       "<style scoped>\n",
       "    .dataframe tbody tr th:only-of-type {\n",
       "        vertical-align: middle;\n",
       "    }\n",
       "\n",
       "    .dataframe tbody tr th {\n",
       "        vertical-align: top;\n",
       "    }\n",
       "\n",
       "    .dataframe thead th {\n",
       "        text-align: right;\n",
       "    }\n",
       "</style>\n",
       "<table border=\"1\" class=\"dataframe\">\n",
       "  <thead>\n",
       "    <tr style=\"text-align: right;\">\n",
       "      <th></th>\n",
       "      <th>Gender</th>\n",
       "      <th>Age</th>\n",
       "      <th>EstimatedSalary</th>\n",
       "      <th>Purchased</th>\n",
       "    </tr>\n",
       "  </thead>\n",
       "  <tbody>\n",
       "    <tr>\n",
       "      <th>count</th>\n",
       "      <td>400.000000</td>\n",
       "      <td>400.000000</td>\n",
       "      <td>400.000000</td>\n",
       "      <td>400.000000</td>\n",
       "    </tr>\n",
       "    <tr>\n",
       "      <th>mean</th>\n",
       "      <td>0.490000</td>\n",
       "      <td>37.655000</td>\n",
       "      <td>69742.500000</td>\n",
       "      <td>0.357500</td>\n",
       "    </tr>\n",
       "    <tr>\n",
       "      <th>std</th>\n",
       "      <td>0.500526</td>\n",
       "      <td>10.482877</td>\n",
       "      <td>34096.960282</td>\n",
       "      <td>0.479864</td>\n",
       "    </tr>\n",
       "    <tr>\n",
       "      <th>min</th>\n",
       "      <td>0.000000</td>\n",
       "      <td>18.000000</td>\n",
       "      <td>15000.000000</td>\n",
       "      <td>0.000000</td>\n",
       "    </tr>\n",
       "    <tr>\n",
       "      <th>25%</th>\n",
       "      <td>0.000000</td>\n",
       "      <td>29.750000</td>\n",
       "      <td>43000.000000</td>\n",
       "      <td>0.000000</td>\n",
       "    </tr>\n",
       "    <tr>\n",
       "      <th>50%</th>\n",
       "      <td>0.000000</td>\n",
       "      <td>37.000000</td>\n",
       "      <td>70000.000000</td>\n",
       "      <td>0.000000</td>\n",
       "    </tr>\n",
       "    <tr>\n",
       "      <th>75%</th>\n",
       "      <td>1.000000</td>\n",
       "      <td>46.000000</td>\n",
       "      <td>88000.000000</td>\n",
       "      <td>1.000000</td>\n",
       "    </tr>\n",
       "    <tr>\n",
       "      <th>max</th>\n",
       "      <td>1.000000</td>\n",
       "      <td>60.000000</td>\n",
       "      <td>150000.000000</td>\n",
       "      <td>1.000000</td>\n",
       "    </tr>\n",
       "  </tbody>\n",
       "</table>\n",
       "</div>"
      ],
      "text/plain": [
       "           Gender         Age  EstimatedSalary   Purchased\n",
       "count  400.000000  400.000000       400.000000  400.000000\n",
       "mean     0.490000   37.655000     69742.500000    0.357500\n",
       "std      0.500526   10.482877     34096.960282    0.479864\n",
       "min      0.000000   18.000000     15000.000000    0.000000\n",
       "25%      0.000000   29.750000     43000.000000    0.000000\n",
       "50%      0.000000   37.000000     70000.000000    0.000000\n",
       "75%      1.000000   46.000000     88000.000000    1.000000\n",
       "max      1.000000   60.000000    150000.000000    1.000000"
      ]
     },
     "execution_count": 452,
     "metadata": {},
     "output_type": "execute_result"
    }
   ],
   "source": [
    "df.describe()"
   ]
  },
  {
   "cell_type": "markdown",
   "id": "b33e2bdf",
   "metadata": {},
   "source": [
    "- Gender -> Cinsiyet\n",
    "- Age -> Yas\n",
    "- EstimatedSalary -> Tahmini Maas\n",
    "- Purchased -> Satin alma durumu. 1 alindi, 0 alinmadi."
   ]
  },
  {
   "cell_type": "markdown",
   "id": "bad09a41",
   "metadata": {},
   "source": [
    "## Veriyi Test/Train olarak ikiye bolme"
   ]
  },
  {
   "cell_type": "markdown",
   "id": "bf99798d",
   "metadata": {},
   "source": [
    "Bagimli degiskenimizi Purshased seciyoruz. Yani diger degiskenlerinin durumuna gore satin alma durumunu tahmin etmeye yonelik bir ML modeli kuracagiz.\n"
   ]
  },
  {
   "cell_type": "code",
   "execution_count": 453,
   "id": "dd7ad317",
   "metadata": {},
   "outputs": [],
   "source": [
    "from sklearn.model_selection import train_test_split"
   ]
  },
  {
   "cell_type": "code",
   "execution_count": 454,
   "id": "1f42d130",
   "metadata": {},
   "outputs": [],
   "source": [
    "y = df['Purchased'].values\n",
    "x = df.drop(\"Purchased\", axis = 1).values"
   ]
  },
  {
   "cell_type": "code",
   "execution_count": 455,
   "id": "2fed08e8",
   "metadata": {},
   "outputs": [],
   "source": [
    "x_train, x_test, y_train, y_test = train_test_split(x, y, test_size = 0.33, random_state=99) "
   ]
  },
  {
   "cell_type": "code",
   "execution_count": 456,
   "id": "112bdce9",
   "metadata": {},
   "outputs": [
    {
     "data": {
      "text/plain": [
       "(268, 3)"
      ]
     },
     "execution_count": 456,
     "metadata": {},
     "output_type": "execute_result"
    }
   ],
   "source": [
    "x_train.shape"
   ]
  },
  {
   "cell_type": "code",
   "execution_count": 457,
   "id": "fd2f0e27",
   "metadata": {},
   "outputs": [
    {
     "data": {
      "text/plain": [
       "(132, 3)"
      ]
     },
     "execution_count": 457,
     "metadata": {},
     "output_type": "execute_result"
    }
   ],
   "source": [
    "x_test.shape"
   ]
  },
  {
   "cell_type": "markdown",
   "id": "2ffe52a2",
   "metadata": {},
   "source": [
    "## Scaling"
   ]
  },
  {
   "cell_type": "code",
   "execution_count": 458,
   "id": "5656f43a",
   "metadata": {},
   "outputs": [],
   "source": [
    "from sklearn.preprocessing import MinMaxScaler"
   ]
  },
  {
   "cell_type": "code",
   "execution_count": 459,
   "id": "8cb29ed3",
   "metadata": {},
   "outputs": [],
   "source": [
    "scaler = MinMaxScaler()"
   ]
  },
  {
   "cell_type": "code",
   "execution_count": 460,
   "id": "31736d1d",
   "metadata": {},
   "outputs": [
    {
     "data": {
      "text/html": [
       "<style>#sk-container-id-3 {color: black;background-color: white;}#sk-container-id-3 pre{padding: 0;}#sk-container-id-3 div.sk-toggleable {background-color: white;}#sk-container-id-3 label.sk-toggleable__label {cursor: pointer;display: block;width: 100%;margin-bottom: 0;padding: 0.3em;box-sizing: border-box;text-align: center;}#sk-container-id-3 label.sk-toggleable__label-arrow:before {content: \"▸\";float: left;margin-right: 0.25em;color: #696969;}#sk-container-id-3 label.sk-toggleable__label-arrow:hover:before {color: black;}#sk-container-id-3 div.sk-estimator:hover label.sk-toggleable__label-arrow:before {color: black;}#sk-container-id-3 div.sk-toggleable__content {max-height: 0;max-width: 0;overflow: hidden;text-align: left;background-color: #f0f8ff;}#sk-container-id-3 div.sk-toggleable__content pre {margin: 0.2em;color: black;border-radius: 0.25em;background-color: #f0f8ff;}#sk-container-id-3 input.sk-toggleable__control:checked~div.sk-toggleable__content {max-height: 200px;max-width: 100%;overflow: auto;}#sk-container-id-3 input.sk-toggleable__control:checked~label.sk-toggleable__label-arrow:before {content: \"▾\";}#sk-container-id-3 div.sk-estimator input.sk-toggleable__control:checked~label.sk-toggleable__label {background-color: #d4ebff;}#sk-container-id-3 div.sk-label input.sk-toggleable__control:checked~label.sk-toggleable__label {background-color: #d4ebff;}#sk-container-id-3 input.sk-hidden--visually {border: 0;clip: rect(1px 1px 1px 1px);clip: rect(1px, 1px, 1px, 1px);height: 1px;margin: -1px;overflow: hidden;padding: 0;position: absolute;width: 1px;}#sk-container-id-3 div.sk-estimator {font-family: monospace;background-color: #f0f8ff;border: 1px dotted black;border-radius: 0.25em;box-sizing: border-box;margin-bottom: 0.5em;}#sk-container-id-3 div.sk-estimator:hover {background-color: #d4ebff;}#sk-container-id-3 div.sk-parallel-item::after {content: \"\";width: 100%;border-bottom: 1px solid gray;flex-grow: 1;}#sk-container-id-3 div.sk-label:hover label.sk-toggleable__label {background-color: #d4ebff;}#sk-container-id-3 div.sk-serial::before {content: \"\";position: absolute;border-left: 1px solid gray;box-sizing: border-box;top: 0;bottom: 0;left: 50%;z-index: 0;}#sk-container-id-3 div.sk-serial {display: flex;flex-direction: column;align-items: center;background-color: white;padding-right: 0.2em;padding-left: 0.2em;position: relative;}#sk-container-id-3 div.sk-item {position: relative;z-index: 1;}#sk-container-id-3 div.sk-parallel {display: flex;align-items: stretch;justify-content: center;background-color: white;position: relative;}#sk-container-id-3 div.sk-item::before, #sk-container-id-3 div.sk-parallel-item::before {content: \"\";position: absolute;border-left: 1px solid gray;box-sizing: border-box;top: 0;bottom: 0;left: 50%;z-index: -1;}#sk-container-id-3 div.sk-parallel-item {display: flex;flex-direction: column;z-index: 1;position: relative;background-color: white;}#sk-container-id-3 div.sk-parallel-item:first-child::after {align-self: flex-end;width: 50%;}#sk-container-id-3 div.sk-parallel-item:last-child::after {align-self: flex-start;width: 50%;}#sk-container-id-3 div.sk-parallel-item:only-child::after {width: 0;}#sk-container-id-3 div.sk-dashed-wrapped {border: 1px dashed gray;margin: 0 0.4em 0.5em 0.4em;box-sizing: border-box;padding-bottom: 0.4em;background-color: white;}#sk-container-id-3 div.sk-label label {font-family: monospace;font-weight: bold;display: inline-block;line-height: 1.2em;}#sk-container-id-3 div.sk-label-container {text-align: center;}#sk-container-id-3 div.sk-container {/* jupyter's `normalize.less` sets `[hidden] { display: none; }` but bootstrap.min.css set `[hidden] { display: none !important; }` so we also need the `!important` here to be able to override the default hidden behavior on the sphinx rendered scikit-learn.org. See: https://github.com/scikit-learn/scikit-learn/issues/21755 */display: inline-block !important;position: relative;}#sk-container-id-3 div.sk-text-repr-fallback {display: none;}</style><div id=\"sk-container-id-3\" class=\"sk-top-container\"><div class=\"sk-text-repr-fallback\"><pre>MinMaxScaler()</pre><b>In a Jupyter environment, please rerun this cell to show the HTML representation or trust the notebook. <br />On GitHub, the HTML representation is unable to render, please try loading this page with nbviewer.org.</b></div><div class=\"sk-container\" hidden><div class=\"sk-item\"><div class=\"sk-estimator sk-toggleable\"><input class=\"sk-toggleable__control sk-hidden--visually\" id=\"sk-estimator-id-3\" type=\"checkbox\" checked><label for=\"sk-estimator-id-3\" class=\"sk-toggleable__label sk-toggleable__label-arrow\">MinMaxScaler</label><div class=\"sk-toggleable__content\"><pre>MinMaxScaler()</pre></div></div></div></div></div>"
      ],
      "text/plain": [
       "MinMaxScaler()"
      ]
     },
     "execution_count": 460,
     "metadata": {},
     "output_type": "execute_result"
    }
   ],
   "source": [
    "scaler.fit(x_train)"
   ]
  },
  {
   "cell_type": "code",
   "execution_count": 461,
   "id": "4852c515",
   "metadata": {},
   "outputs": [],
   "source": [
    "x_train = scaler.fit_transform(x_train)"
   ]
  },
  {
   "cell_type": "code",
   "execution_count": 462,
   "id": "0bcb2285",
   "metadata": {},
   "outputs": [],
   "source": [
    "x_test = scaler.fit_transform(x_test)"
   ]
  },
  {
   "cell_type": "code",
   "execution_count": 463,
   "id": "bd695669",
   "metadata": {},
   "outputs": [
    {
     "data": {
      "text/plain": [
       "array([[0.        , 0.97619048, 0.18796992],\n",
       "       [1.        , 0.23809524, 0.31578947],\n",
       "       [0.        , 0.47619048, 0.36090226],\n",
       "       [1.        , 0.5       , 0.18796992],\n",
       "       [0.        , 0.9047619 , 0.65413534],\n",
       "       [1.        , 0.42857143, 0.12030075],\n",
       "       [1.        , 0.73809524, 0.08270677],\n",
       "       [0.        , 0.95238095, 0.04511278],\n",
       "       [1.        , 0.47619048, 0.33082707],\n",
       "       [1.        , 0.45238095, 0.27067669]])"
      ]
     },
     "execution_count": 463,
     "metadata": {},
     "output_type": "execute_result"
    }
   ],
   "source": [
    "x_train[:10]"
   ]
  },
  {
   "cell_type": "code",
   "execution_count": 464,
   "id": "335510db",
   "metadata": {},
   "outputs": [
    {
     "data": {
      "text/plain": [
       "array([[1.        , 0.16666667, 0.53333333],\n",
       "       [1.        , 0.5       , 0.45925926],\n",
       "       [1.        , 0.4047619 , 0.17037037],\n",
       "       [0.        , 0.33333333, 1.        ],\n",
       "       [1.        , 0.92857143, 0.43703704],\n",
       "       [1.        , 0.71428571, 0.13333333],\n",
       "       [0.        , 0.52380952, 0.94074074],\n",
       "       [0.        , 0.21428571, 0.31111111],\n",
       "       [0.        , 0.54761905, 0.42222222],\n",
       "       [0.        , 0.4047619 , 0.41481481]])"
      ]
     },
     "execution_count": 464,
     "metadata": {},
     "output_type": "execute_result"
    }
   ],
   "source": [
    "x_test[:10]"
   ]
  },
  {
   "cell_type": "markdown",
   "id": "17602504",
   "metadata": {},
   "source": [
    "## Modelin Olusturulmasi"
   ]
  },
  {
   "cell_type": "code",
   "execution_count": 553,
   "id": "a48109ad",
   "metadata": {},
   "outputs": [],
   "source": [
    "import tensorflow as tf\n",
    "from tensorflow.keras.models import Sequential\n",
    "from tensorflow.keras.layers import Dense\n",
    "from tensorflow.keras.callbacks import EarlyStopping"
   ]
  },
  {
   "cell_type": "code",
   "execution_count": 554,
   "id": "d650df5c",
   "metadata": {},
   "outputs": [
    {
     "data": {
      "text/plain": [
       "(268, 3)"
      ]
     },
     "execution_count": 554,
     "metadata": {},
     "output_type": "execute_result"
    }
   ],
   "source": [
    "x_train.shape"
   ]
  },
  {
   "cell_type": "code",
   "execution_count": 627,
   "id": "e9adc132",
   "metadata": {},
   "outputs": [],
   "source": [
    "model = Sequential()\n",
    "\n",
    "model.add(Dense(5, activation = 'relu'))\n",
    "\n",
    "model.add(Dense(5, activation = 'relu'))\n",
    "\n",
    "model.add(Dense(4, activation = 'relu'))\n",
    "\n",
    "model.add(Dense(4, activation = 'relu'))\n",
    "\n",
    "model.add(Dense(5, activation = 'relu'))\n",
    "\n",
    "\n",
    "\n",
    "\n",
    "\n",
    "model.add(Dense(1, activation = 'sigmoid'))\n",
    "\n",
    "model.compile(loss = 'binary_crossentropy', optimizer = 'adam')"
   ]
  },
  {
   "cell_type": "code",
   "execution_count": 628,
   "id": "be19c6f8",
   "metadata": {},
   "outputs": [
    {
     "name": "stdout",
     "output_type": "stream",
     "text": [
      "Epoch 1/90\n",
      "9/9 [==============================] - 2s 32ms/step - loss: 0.6900 - val_loss: 0.6851\n",
      "Epoch 2/90\n",
      "9/9 [==============================] - 0s 8ms/step - loss: 0.6856 - val_loss: 0.6798\n",
      "Epoch 3/90\n",
      "9/9 [==============================] - 0s 9ms/step - loss: 0.6820 - val_loss: 0.6756\n",
      "Epoch 4/90\n",
      "9/9 [==============================] - 0s 8ms/step - loss: 0.6787 - val_loss: 0.6712\n",
      "Epoch 5/90\n",
      "9/9 [==============================] - 0s 9ms/step - loss: 0.6755 - val_loss: 0.6669\n",
      "Epoch 6/90\n",
      "9/9 [==============================] - 0s 7ms/step - loss: 0.6720 - val_loss: 0.6619\n",
      "Epoch 7/90\n",
      "9/9 [==============================] - 0s 10ms/step - loss: 0.6686 - val_loss: 0.6569\n",
      "Epoch 8/90\n",
      "9/9 [==============================] - 0s 8ms/step - loss: 0.6650 - val_loss: 0.6517\n",
      "Epoch 9/90\n",
      "9/9 [==============================] - 0s 9ms/step - loss: 0.6614 - val_loss: 0.6466\n",
      "Epoch 10/90\n",
      "9/9 [==============================] - 0s 9ms/step - loss: 0.6575 - val_loss: 0.6420\n",
      "Epoch 11/90\n",
      "9/9 [==============================] - 0s 9ms/step - loss: 0.6539 - val_loss: 0.6362\n",
      "Epoch 12/90\n",
      "9/9 [==============================] - 0s 8ms/step - loss: 0.6492 - val_loss: 0.6295\n",
      "Epoch 13/90\n",
      "9/9 [==============================] - 0s 10ms/step - loss: 0.6448 - val_loss: 0.6250\n",
      "Epoch 14/90\n",
      "9/9 [==============================] - 0s 8ms/step - loss: 0.6398 - val_loss: 0.6206\n",
      "Epoch 15/90\n",
      "9/9 [==============================] - 0s 9ms/step - loss: 0.6345 - val_loss: 0.6152\n",
      "Epoch 16/90\n",
      "9/9 [==============================] - 0s 7ms/step - loss: 0.6295 - val_loss: 0.6086\n",
      "Epoch 17/90\n",
      "9/9 [==============================] - 0s 9ms/step - loss: 0.6242 - val_loss: 0.6056\n",
      "Epoch 18/90\n",
      "9/9 [==============================] - 0s 8ms/step - loss: 0.6178 - val_loss: 0.5990\n",
      "Epoch 19/90\n",
      "9/9 [==============================] - 0s 10ms/step - loss: 0.6121 - val_loss: 0.5955\n",
      "Epoch 20/90\n",
      "9/9 [==============================] - 0s 9ms/step - loss: 0.6059 - val_loss: 0.5892\n",
      "Epoch 21/90\n",
      "9/9 [==============================] - 0s 9ms/step - loss: 0.5991 - val_loss: 0.5815\n",
      "Epoch 22/90\n",
      "9/9 [==============================] - 0s 8ms/step - loss: 0.5915 - val_loss: 0.5749\n",
      "Epoch 23/90\n",
      "9/9 [==============================] - 0s 10ms/step - loss: 0.5825 - val_loss: 0.5678\n",
      "Epoch 24/90\n",
      "9/9 [==============================] - 0s 9ms/step - loss: 0.5721 - val_loss: 0.5608\n",
      "Epoch 25/90\n",
      "9/9 [==============================] - 0s 10ms/step - loss: 0.5631 - val_loss: 0.5501\n",
      "Epoch 26/90\n",
      "9/9 [==============================] - 0s 9ms/step - loss: 0.5544 - val_loss: 0.5375\n",
      "Epoch 27/90\n",
      "9/9 [==============================] - 0s 8ms/step - loss: 0.5451 - val_loss: 0.5355\n",
      "Epoch 28/90\n",
      "9/9 [==============================] - 0s 8ms/step - loss: 0.5345 - val_loss: 0.5226\n",
      "Epoch 29/90\n",
      "9/9 [==============================] - 0s 10ms/step - loss: 0.5245 - val_loss: 0.5116\n",
      "Epoch 30/90\n",
      "9/9 [==============================] - 0s 9ms/step - loss: 0.5139 - val_loss: 0.5035\n",
      "Epoch 31/90\n",
      "9/9 [==============================] - 0s 9ms/step - loss: 0.5040 - val_loss: 0.4956\n",
      "Epoch 32/90\n",
      "9/9 [==============================] - 0s 10ms/step - loss: 0.4943 - val_loss: 0.4844\n",
      "Epoch 33/90\n",
      "9/9 [==============================] - 0s 8ms/step - loss: 0.4815 - val_loss: 0.4743\n",
      "Epoch 34/90\n",
      "9/9 [==============================] - 0s 8ms/step - loss: 0.4718 - val_loss: 0.4637\n",
      "Epoch 35/90\n",
      "9/9 [==============================] - 0s 10ms/step - loss: 0.4600 - val_loss: 0.4487\n",
      "Epoch 36/90\n",
      "9/9 [==============================] - 0s 9ms/step - loss: 0.4499 - val_loss: 0.4454\n",
      "Epoch 37/90\n",
      "9/9 [==============================] - 0s 12ms/step - loss: 0.4363 - val_loss: 0.4295\n",
      "Epoch 38/90\n",
      "9/9 [==============================] - 0s 10ms/step - loss: 0.4248 - val_loss: 0.4175\n",
      "Epoch 39/90\n",
      "9/9 [==============================] - 0s 7ms/step - loss: 0.4135 - val_loss: 0.4113\n",
      "Epoch 40/90\n",
      "9/9 [==============================] - 0s 9ms/step - loss: 0.4039 - val_loss: 0.3965\n",
      "Epoch 41/90\n",
      "9/9 [==============================] - 0s 8ms/step - loss: 0.3940 - val_loss: 0.3896\n",
      "Epoch 42/90\n",
      "9/9 [==============================] - 0s 9ms/step - loss: 0.3827 - val_loss: 0.3744\n",
      "Epoch 43/90\n",
      "9/9 [==============================] - 0s 9ms/step - loss: 0.3729 - val_loss: 0.3570\n",
      "Epoch 44/90\n",
      "9/9 [==============================] - 0s 8ms/step - loss: 0.3644 - val_loss: 0.3547\n",
      "Epoch 45/90\n",
      "9/9 [==============================] - 0s 11ms/step - loss: 0.3547 - val_loss: 0.3425\n",
      "Epoch 46/90\n",
      "9/9 [==============================] - 0s 10ms/step - loss: 0.3464 - val_loss: 0.3319\n",
      "Epoch 47/90\n",
      "9/9 [==============================] - 0s 9ms/step - loss: 0.3381 - val_loss: 0.3215\n",
      "Epoch 48/90\n",
      "9/9 [==============================] - 0s 14ms/step - loss: 0.3342 - val_loss: 0.3204\n",
      "Epoch 49/90\n",
      "9/9 [==============================] - 0s 10ms/step - loss: 0.3217 - val_loss: 0.2895\n",
      "Epoch 50/90\n",
      "9/9 [==============================] - 0s 12ms/step - loss: 0.3134 - val_loss: 0.2882\n",
      "Epoch 51/90\n",
      "9/9 [==============================] - 0s 11ms/step - loss: 0.3093 - val_loss: 0.2855\n",
      "Epoch 52/90\n",
      "9/9 [==============================] - 0s 11ms/step - loss: 0.3027 - val_loss: 0.2943\n",
      "Epoch 53/90\n",
      "9/9 [==============================] - 0s 12ms/step - loss: 0.3010 - val_loss: 0.2662\n",
      "Epoch 54/90\n",
      "9/9 [==============================] - 0s 12ms/step - loss: 0.2957 - val_loss: 0.2603\n",
      "Epoch 55/90\n",
      "9/9 [==============================] - 0s 11ms/step - loss: 0.2884 - val_loss: 0.2663\n",
      "Epoch 56/90\n",
      "9/9 [==============================] - 0s 10ms/step - loss: 0.2883 - val_loss: 0.2593\n",
      "Epoch 57/90\n",
      "9/9 [==============================] - 0s 11ms/step - loss: 0.2828 - val_loss: 0.2523\n",
      "Epoch 58/90\n",
      "9/9 [==============================] - 0s 12ms/step - loss: 0.2827 - val_loss: 0.2531\n",
      "Epoch 59/90\n",
      "9/9 [==============================] - 0s 12ms/step - loss: 0.2813 - val_loss: 0.2571\n",
      "Epoch 60/90\n",
      "9/9 [==============================] - 0s 12ms/step - loss: 0.2785 - val_loss: 0.2438\n",
      "Epoch 61/90\n",
      "9/9 [==============================] - 0s 11ms/step - loss: 0.2767 - val_loss: 0.2366\n",
      "Epoch 62/90\n",
      "9/9 [==============================] - 0s 13ms/step - loss: 0.2731 - val_loss: 0.2412\n",
      "Epoch 63/90\n",
      "9/9 [==============================] - 0s 11ms/step - loss: 0.2706 - val_loss: 0.2375\n",
      "Epoch 64/90\n",
      "9/9 [==============================] - 0s 12ms/step - loss: 0.2694 - val_loss: 0.2343\n",
      "Epoch 65/90\n",
      "9/9 [==============================] - 0s 12ms/step - loss: 0.2672 - val_loss: 0.2244\n",
      "Epoch 66/90\n",
      "9/9 [==============================] - 0s 15ms/step - loss: 0.2672 - val_loss: 0.2315\n",
      "Epoch 67/90\n",
      "9/9 [==============================] - 0s 10ms/step - loss: 0.2666 - val_loss: 0.2247\n",
      "Epoch 68/90\n",
      "9/9 [==============================] - 0s 7ms/step - loss: 0.2628 - val_loss: 0.2284\n",
      "Epoch 69/90\n",
      "9/9 [==============================] - 0s 9ms/step - loss: 0.2704 - val_loss: 0.2407\n",
      "Epoch 70/90\n",
      "9/9 [==============================] - 0s 10ms/step - loss: 0.2623 - val_loss: 0.2211\n",
      "Epoch 71/90\n",
      "9/9 [==============================] - 0s 9ms/step - loss: 0.2610 - val_loss: 0.2192\n",
      "Epoch 72/90\n",
      "9/9 [==============================] - 0s 9ms/step - loss: 0.2596 - val_loss: 0.2246\n",
      "Epoch 73/90\n",
      "9/9 [==============================] - 0s 9ms/step - loss: 0.2579 - val_loss: 0.2182\n",
      "Epoch 74/90\n",
      "9/9 [==============================] - 0s 7ms/step - loss: 0.2575 - val_loss: 0.2164\n",
      "Epoch 75/90\n",
      "9/9 [==============================] - 0s 9ms/step - loss: 0.2580 - val_loss: 0.2229\n",
      "Epoch 76/90\n",
      "9/9 [==============================] - 0s 8ms/step - loss: 0.2550 - val_loss: 0.2218\n",
      "Epoch 77/90\n",
      "9/9 [==============================] - 0s 8ms/step - loss: 0.2568 - val_loss: 0.2145\n",
      "Epoch 78/90\n",
      "9/9 [==============================] - 0s 9ms/step - loss: 0.2537 - val_loss: 0.2223\n",
      "Epoch 79/90\n",
      "9/9 [==============================] - 0s 7ms/step - loss: 0.2533 - val_loss: 0.2182\n",
      "Epoch 80/90\n",
      "9/9 [==============================] - 0s 9ms/step - loss: 0.2534 - val_loss: 0.2151\n",
      "Epoch 81/90\n",
      "9/9 [==============================] - 0s 8ms/step - loss: 0.2520 - val_loss: 0.2159\n",
      "Epoch 82/90\n",
      "9/9 [==============================] - 0s 9ms/step - loss: 0.2504 - val_loss: 0.2083\n",
      "Epoch 83/90\n",
      "9/9 [==============================] - 0s 8ms/step - loss: 0.2505 - val_loss: 0.2109\n",
      "Epoch 84/90\n",
      "9/9 [==============================] - 0s 8ms/step - loss: 0.2489 - val_loss: 0.2089\n",
      "Epoch 85/90\n"
     ]
    },
    {
     "name": "stdout",
     "output_type": "stream",
     "text": [
      "9/9 [==============================] - 0s 11ms/step - loss: 0.2534 - val_loss: 0.2061\n",
      "Epoch 86/90\n",
      "9/9 [==============================] - 0s 10ms/step - loss: 0.2487 - val_loss: 0.2138\n",
      "Epoch 87/90\n",
      "9/9 [==============================] - 0s 8ms/step - loss: 0.2483 - val_loss: 0.2180\n",
      "Epoch 88/90\n",
      "9/9 [==============================] - 0s 8ms/step - loss: 0.2477 - val_loss: 0.2103\n",
      "Epoch 89/90\n",
      "9/9 [==============================] - 0s 7ms/step - loss: 0.2470 - val_loss: 0.2105\n",
      "Epoch 90/90\n",
      "9/9 [==============================] - 0s 10ms/step - loss: 0.2468 - val_loss: 0.2104\n"
     ]
    },
    {
     "data": {
      "text/plain": [
       "<keras.callbacks.History at 0x1b64f19f760>"
      ]
     },
     "execution_count": 628,
     "metadata": {},
     "output_type": "execute_result"
    }
   ],
   "source": [
    "model.fit(x = x_train, y = y_train, epochs = 90, validation_data = (x_test, y_test), verbose = 1)"
   ]
  },
  {
   "cell_type": "code",
   "execution_count": 629,
   "id": "b4b6a9ae",
   "metadata": {},
   "outputs": [],
   "source": [
    "modelKaybi = pd.DataFrame(model.history.history)"
   ]
  },
  {
   "cell_type": "code",
   "execution_count": 630,
   "id": "c0eb877a",
   "metadata": {},
   "outputs": [
    {
     "data": {
      "text/plain": [
       "<AxesSubplot:>"
      ]
     },
     "execution_count": 630,
     "metadata": {},
     "output_type": "execute_result"
    },
    {
     "data": {
      "image/png": "[encoded data removed]",
      "text/plain": [
       "<Figure size 640x480 with 1 Axes>"
      ]
     },
     "metadata": {},
     "output_type": "display_data"
    }
   ],
   "source": [
    "modelKaybi.plot()"
   ]
  },
  {
   "cell_type": "code",
   "execution_count": 631,
   "id": "f6f7a1d5",
   "metadata": {},
   "outputs": [
    {
     "name": "stdout",
     "output_type": "stream",
     "text": [
      "5/5 [==============================] - 0s 4ms/step\n"
     ]
    }
   ],
   "source": [
    "tahminlerimiz = (model.predict(x_test) > 0.5) .astype('int32')"
   ]
  },
  {
   "cell_type": "code",
   "execution_count": 632,
   "id": "454bc38b",
   "metadata": {},
   "outputs": [],
   "source": [
    "from sklearn.metrics import classification_report, confusion_matrix\n",
    "from sklearn import metrics"
   ]
  },
  {
   "cell_type": "code",
   "execution_count": 633,
   "id": "b9cf3a37",
   "metadata": {},
   "outputs": [
    {
     "name": "stdout",
     "output_type": "stream",
     "text": [
      "              precision    recall  f1-score   support\n",
      "\n",
      "           0       0.95      0.93      0.94        92\n",
      "           1       0.85      0.88      0.86        40\n",
      "\n",
      "    accuracy                           0.92       132\n",
      "   macro avg       0.90      0.90      0.90       132\n",
      "weighted avg       0.92      0.92      0.92       132\n",
      "\n"
     ]
    }
   ],
   "source": [
    "print(classification_report(y_test, tahminlerimiz))"
   ]
  },
  {
   "cell_type": "code",
   "execution_count": 634,
   "id": "1ca1b332",
   "metadata": {},
   "outputs": [
    {
     "name": "stdout",
     "output_type": "stream",
     "text": [
      "[[86  6]\n",
      " [ 5 35]]\n"
     ]
    }
   ],
   "source": [
    "print(confusion_matrix(y_test, tahminlerimiz))"
   ]
  },
  {
   "cell_type": "code",
   "execution_count": 635,
   "id": "2ac16d52",
   "metadata": {},
   "outputs": [],
   "source": [
    "dogruluk = metrics.accuracy_score(y_test, tahminlerimiz)"
   ]
  },
  {
   "cell_type": "code",
   "execution_count": 636,
   "id": "c25e018a",
   "metadata": {},
   "outputs": [
    {
     "data": {
      "text/plain": [
       "0.9166666666666666"
      ]
     },
     "execution_count": 636,
     "metadata": {},
     "output_type": "execute_result"
    }
   ],
   "source": [
    "dogruluk"
   ]
  },
  {
   "cell_type": "code",
   "execution_count": 637,
   "id": "ff14c2ed",
   "metadata": {},
   "outputs": [
    {
     "data": {
      "text/plain": [
       "0.08333333333333337"
      ]
     },
     "execution_count": 637,
     "metadata": {},
     "output_type": "execute_result"
    }
   ],
   "source": [
    "1 - dogruluk"
   ]
  },
  {
   "cell_type": "code",
   "execution_count": 638,
   "id": "97e3c92d",
   "metadata": {},
   "outputs": [
    {
     "data": {
      "text/plain": [
       "0.8372093023255814"
      ]
     },
     "execution_count": 638,
     "metadata": {},
     "output_type": "execute_result"
    }
   ],
   "source": [
    "36 / (36 + 7)"
   ]
  },
  {
   "cell_type": "code",
   "execution_count": 639,
   "id": "fcc46a26",
   "metadata": {},
   "outputs": [
    {
     "data": {
      "text/plain": [
       "0.9"
      ]
     },
     "execution_count": 639,
     "metadata": {},
     "output_type": "execute_result"
    }
   ],
   "source": [
    "36 / (36 + 4)"
   ]
  },
  {
   "cell_type": "markdown",
   "id": "1f21ea9b",
   "metadata": {},
   "source": [
    "- Modelimizin dogruluk orani bu veri seti icin gayet iyi durumda."
   ]
  },
  {
   "cell_type": "code",
   "execution_count": null,
   "id": "62f9c2dd",
   "metadata": {},
   "outputs": [],
   "source": []
  }
 ],
 "metadata": {
  "kernelspec": {
   "display_name": "Python 3 (ipykernel)",
   "language": "python",
   "name": "python3"
  },
  "language_info": {
   "codemirror_mode": {
    "name": "ipython",
    "version": 3
   },
   "file_extension": ".py",
   "mimetype": "text/x-python",
   "name": "python",
   "nbconvert_exporter": "python",
   "pygments_lexer": "ipython3",
   "version": "3.10.6"
  }
 },
 "nbformat": 4,
 "nbformat_minor": 5
}
